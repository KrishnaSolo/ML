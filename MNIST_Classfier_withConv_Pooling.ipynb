{
  "nbformat": 4,
  "nbformat_minor": 0,
  "metadata": {
    "colab": {
      "name": "MNIST-Classfier-withConv/Pooling.ipynb",
      "version": "0.3.2",
      "provenance": [],
      "include_colab_link": true
    },
    "kernelspec": {
      "name": "python3",
      "display_name": "Python 3"
    },
    "accelerator": "GPU"
  },
  "cells": [
    {
      "cell_type": "markdown",
      "metadata": {
        "id": "view-in-github",
        "colab_type": "text"
      },
      "source": [
        "<a href=\"https://colab.research.google.com/github/KrishnaSolo/HackeRankQwthSolution/blob/master/MNIST_Classfier_withConv_Pooling.ipynb\" target=\"_parent\"><img src=\"https://colab.research.google.com/assets/colab-badge.svg\" alt=\"Open In Colab\"/></a>"
      ]
    },
    {
      "cell_type": "code",
      "metadata": {
        "id": "47KgbW1bGLrH",
        "colab_type": "code",
        "colab": {
          "base_uri": "https://localhost:8080/",
          "height": 998
        },
        "outputId": "9f19146f-6f9b-4a58-d196-d1c3de991fde"
      },
      "source": [
        "import tensorflow as tf\n",
        "import matplotlib.pyplot as plt\n",
        "\n",
        "#callback to tell it to end training\n",
        "class myCallback(tf.keras.callbacks.Callback):\n",
        "  def on_epoch_end(self, epoch, logs={}):\n",
        "    if(logs.get('acc')>0.998):\n",
        "      print(\"\\nMet 99.8% accuracy.\")\n",
        "      self.model.stop_training = True\n",
        "\n",
        "callbacks = myCallback()\n",
        "\n",
        "#load mnist handwriting data\n",
        "mnist = tf.keras.datasets.mnist\n",
        "\n",
        "#set up images \n",
        "(training_images, training_labels), (test_images, test_labels) = mnist.load_data()\n",
        "training_images=training_images.reshape(60000, 28, 28, 1)\n",
        "training_images=training_images / 255.0\n",
        "test_images = test_images.reshape(10000, 28, 28, 1)\n",
        "test_images=test_images/255.0\n",
        "\n",
        "#train using conv and pool\n",
        "model = tf.keras.models.Sequential([\n",
        "  tf.keras.layers.Conv2D(64, (3,3), activation='relu', input_shape=(28, 28, 1)),\n",
        "  tf.keras.layers.MaxPooling2D(2, 2),\n",
        "  tf.keras.layers.Flatten(),\n",
        "  tf.keras.layers.Dense(512, activation='relu'),\n",
        "  tf.keras.layers.Dense(10, activation='softmax')\n",
        "])\n",
        "model.compile(optimizer='adam', loss='sparse_categorical_crossentropy', metrics=['accuracy'])\n",
        "model.summary()\n",
        "#train and test model\n",
        "model.fit(training_images, training_labels, epochs=10) #callbacks=[callbacks])\n",
        "test_loss, test_acc = model.evaluate(test_images, test_labels)\n",
        "\n",
        "print(test_acc)\n",
        "\n",
        "#visualize how the image changed over the layers\n",
        "f, axarr = plt.subplots(3,2)\n",
        "#3 different sneaker samples\n",
        "FIRST_IMAGE=0\n",
        "SECOND_IMAGE=23\n",
        "THIRD_IMAGE=28\n",
        "CONVOLUTION_NUMBER = 60\n",
        "from tensorflow.keras import models\n",
        "layer_outputs = [layer.output for layer in model.layers]\n",
        "activation_model = tf.keras.models.Model(inputs = model.input, outputs = layer_outputs)\n",
        "for x in range(0,2):\n",
        "  f1 = activation_model.predict(test_images[FIRST_IMAGE].reshape(1, 28, 28, 1))[x]\n",
        "  axarr[0,x].imshow(f1[0, : , :, CONVOLUTION_NUMBER], cmap='gray')\n",
        "  axarr[0,x].grid(False)\n",
        "  f2 = activation_model.predict(test_images[SECOND_IMAGE].reshape(1, 28, 28, 1))[x]\n",
        "  axarr[1,x].imshow(f2[0, : , :, CONVOLUTION_NUMBER], cmap='gray')\n",
        "  axarr[1,x].grid(False)\n",
        "  f3 = activation_model.predict(test_images[THIRD_IMAGE].reshape(1, 28, 28, 1))[x]\n",
        "  axarr[2,x].imshow(f3[0, : , :, CONVOLUTION_NUMBER], cmap='gray')\n",
        "  axarr[2,x].grid(False)"
      ],
      "execution_count": 13,
      "outputs": [
        {
          "output_type": "stream",
          "text": [
            "_________________________________________________________________\n",
            "Layer (type)                 Output Shape              Param #   \n",
            "=================================================================\n",
            "conv2d_14 (Conv2D)           (None, 26, 26, 64)        640       \n",
            "_________________________________________________________________\n",
            "max_pooling2d_14 (MaxPooling (None, 13, 13, 64)        0         \n",
            "_________________________________________________________________\n",
            "flatten_12 (Flatten)         (None, 10816)             0         \n",
            "_________________________________________________________________\n",
            "dense_24 (Dense)             (None, 512)               5538304   \n",
            "_________________________________________________________________\n",
            "dense_25 (Dense)             (None, 10)                5130      \n",
            "=================================================================\n",
            "Total params: 5,544,074\n",
            "Trainable params: 5,544,074\n",
            "Non-trainable params: 0\n",
            "_________________________________________________________________\n",
            "Epoch 1/10\n",
            "60000/60000 [==============================] - 13s 211us/sample - loss: 0.1211 - acc: 0.9630\n",
            "Epoch 2/10\n",
            "60000/60000 [==============================] - 12s 205us/sample - loss: 0.0405 - acc: 0.9873\n",
            "Epoch 3/10\n",
            "60000/60000 [==============================] - 12s 203us/sample - loss: 0.0232 - acc: 0.9923\n",
            "Epoch 4/10\n",
            "60000/60000 [==============================] - 12s 202us/sample - loss: 0.0140 - acc: 0.9955\n",
            "Epoch 5/10\n",
            "60000/60000 [==============================] - 12s 201us/sample - loss: 0.0106 - acc: 0.9966\n",
            "Epoch 6/10\n",
            "60000/60000 [==============================] - 12s 204us/sample - loss: 0.0083 - acc: 0.9974\n",
            "Epoch 7/10\n",
            "60000/60000 [==============================] - 12s 203us/sample - loss: 0.0056 - acc: 0.9983\n",
            "Epoch 8/10\n",
            "60000/60000 [==============================] - 12s 203us/sample - loss: 0.0069 - acc: 0.9978\n",
            "Epoch 9/10\n",
            "60000/60000 [==============================] - 12s 203us/sample - loss: 0.0041 - acc: 0.9988\n",
            "Epoch 10/10\n",
            "60000/60000 [==============================] - 12s 202us/sample - loss: 0.0044 - acc: 0.9987\n",
            "10000/10000 [==============================] - 1s 74us/sample - loss: 0.0742 - acc: 0.9859\n",
            "0.9859\n"
          ],
          "name": "stdout"
        },
        {
          "output_type": "display_data",
          "data": {
            "image/png": "[encoded data removed]",
            "text/plain": [
              "<Figure size 432x288 with 6 Axes>"
            ]
          },
          "metadata": {
            "tags": []
          }
        }
      ]
    }
  ]
}