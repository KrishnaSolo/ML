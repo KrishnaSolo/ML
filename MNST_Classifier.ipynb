{
  "nbformat": 4,
  "nbformat_minor": 0,
  "metadata": {
    "colab": {
      "name": "MNST-Classifier.ipynb",
      "version": "0.3.2",
      "provenance": [],
      "include_colab_link": true
    },
    "kernelspec": {
      "name": "python3",
      "display_name": "Python 3"
    }
  },
  "cells": [
    {
      "cell_type": "markdown",
      "metadata": {
        "id": "view-in-github",
        "colab_type": "text"
      },
      "source": [
        "<a href=\"https://colab.research.google.com/github/KrishnaSolo/ML/blob/master/MNST_Classifier.ipynb\" target=\"_parent\"><img src=\"https://colab.research.google.com/assets/colab-badge.svg\" alt=\"Open In Colab\"/></a>"
      ]
    },
    {
      "cell_type": "code",
      "metadata": {
        "id": "kKKGTWmWzbkl",
        "colab_type": "code",
        "colab": {
          "base_uri": "https://localhost:8080/",
          "height": 298
        },
        "outputId": "10da3c89-ed1d-4634-8c07-d683e541fa06"
      },
      "source": [
        "import tensorflow as tf\n",
        "\n",
        "class myCallback(tf.keras.callbacks.Callback):\n",
        "  def on_epoch_end(self, epoch, logs={}):\n",
        "    if(logs.get('acc')>0.9):\n",
        "      print(\"\\nMet 90% accuracy\")\n",
        "      self.model.stop_training = True\n",
        "\n",
        "mnist = tf.keras.datasets.fashion_mnist\n",
        "\n",
        "(x_train, y_train),(x_test, y_test) = mnist.load_data()\n",
        "x_train, x_test = x_train / 255.0, x_test / 255.0\n",
        "\n",
        "callbacks = myCallback()\n",
        "\n",
        "model = tf.keras.models.Sequential([\n",
        "  tf.keras.layers.Flatten(input_shape=(28, 28)),\n",
        "  tf.keras.layers.Dense(512, activation=tf.nn.relu),\n",
        "  tf.keras.layers.Dense(10, activation=tf.nn.softmax)\n",
        "])\n",
        "model.compile(optimizer='adam',\n",
        "              loss='sparse_categorical_crossentropy',\n",
        "              metrics=['accuracy'])\n",
        "\n",
        "model.fit(x_train, y_train, epochs=10, callbacks=[callbacks])"
      ],
      "execution_count": 2,
      "outputs": [
        {
          "output_type": "stream",
          "text": [
            "Epoch 1/10\n",
            "60000/60000 [==============================] - 16s 262us/sample - loss: 0.4681 - acc: 0.8329\n",
            "Epoch 2/10\n",
            "60000/60000 [==============================] - 15s 249us/sample - loss: 0.3567 - acc: 0.8702\n",
            "Epoch 3/10\n",
            "60000/60000 [==============================] - 15s 255us/sample - loss: 0.3214 - acc: 0.8809\n",
            "Epoch 4/10\n",
            "60000/60000 [==============================] - 16s 268us/sample - loss: 0.2955 - acc: 0.8911\n",
            "Epoch 5/10\n",
            "60000/60000 [==============================] - 16s 259us/sample - loss: 0.2804 - acc: 0.8974\n",
            "Epoch 6/10\n",
            "59904/60000 [============================>.] - ETA: 0s - loss: 0.2659 - acc: 0.9011\n",
            "Met 90% accuracy\n",
            "60000/60000 [==============================] - 15s 251us/sample - loss: 0.2659 - acc: 0.9011\n"
          ],
          "name": "stdout"
        },
        {
          "output_type": "execute_result",
          "data": {
            "text/plain": [
              "<tensorflow.python.keras.callbacks.History at 0x7f3ca65a8eb8>"
            ]
          },
          "metadata": {
            "tags": []
          },
          "execution_count": 2
        }
      ]
    }
  ]
}