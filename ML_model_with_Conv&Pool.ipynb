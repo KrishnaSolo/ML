{
  "nbformat": 4,
  "nbformat_minor": 0,
  "metadata": {
    "colab": {
      "name": "ML-model-with-Conv&Pool.ipynb",
      "version": "0.3.2",
      "provenance": [],
      "include_colab_link": true
    },
    "kernelspec": {
      "name": "python3",
      "display_name": "Python 3"
    },
    "accelerator": "GPU"
  },
  "cells": [
    {
      "cell_type": "markdown",
      "metadata": {
        "id": "view-in-github",
        "colab_type": "text"
      },
      "source": [
        "<a href=\"https://colab.research.google.com/github/KrishnaSolo/ML/blob/master/ML_model_with_Conv%26Pool.ipynb\" target=\"_parent\"><img src=\"https://colab.research.google.com/assets/colab-badge.svg\" alt=\"Open In Colab\"/></a>"
      ]
    },
    {
      "cell_type": "code",
      "metadata": {
        "id": "OPoC6UUq0fyB",
        "colab_type": "code",
        "colab": {
          "base_uri": "https://localhost:8080/",
          "height": 1148
        },
        "outputId": "7f61362d-3b70-4a54-e3c7-ba5f703b9255"
      },
      "source": [
        "import tensorflow as tf\n",
        "import matplotlib.pyplot as plt\n",
        "\n",
        "#implement callback feature\n",
        "class myCallback(tf.keras.callbacks.Callback):\n",
        "  def on_epoch_end(self, epoch, logs={}):\n",
        "    if(logs.get('acc')>0.9945):\n",
        "      print(\"\\nMet 99% accuracy\")\n",
        "      self.model.stop_training = True\n",
        "      \n",
        "#first get dataset\n",
        "mnist = tf.keras.datasets.mnist\n",
        "\n",
        "#resize trainingd data into 4D tensors\n",
        "(training_images, training_labels), (test_images, test_labels) = mnist.load_data()\n",
        "training_images=training_images.reshape(60000, 28, 28, 1)\n",
        "training_images=training_images / 255.0\n",
        "test_images = test_images.reshape(10000, 28, 28, 1)\n",
        "test_images=test_images/255.0\n",
        "# make sure to normalize data\n",
        "\n",
        "#init callback\n",
        "callbacks = myCallback()\n",
        "\n",
        "#build layers in neural network - conv and pooling first\n",
        "model = tf.keras.models.Sequential([\n",
        "  tf.keras.layers.Conv2D(64, (3,3), activation='relu', input_shape=(28, 28, 1)),\n",
        "  tf.keras.layers.MaxPooling2D(2, 2),\n",
        "  tf.keras.layers.Conv2D(64, (3,3), activation='relu', input_shape=(28, 28, 1)),\n",
        "  tf.keras.layers.MaxPooling2D(2, 2),\n",
        "  tf.keras.layers.Conv2D(32, (3,3), activation='relu', input_shape=(28, 28, 1)),\n",
        "  tf.keras.layers.MaxPooling2D(2, 2),\n",
        "  tf.keras.layers.Flatten(),\n",
        "  tf.keras.layers.Dense(256, activation='relu'),\n",
        "  tf.keras.layers.Dense(10, activation='softmax')\n",
        "])\n",
        "\n",
        "#compile and check how image changed through model\n",
        "model.compile(optimizer='adam', loss='sparse_categorical_crossentropy', metrics=['accuracy'])\n",
        "model.summary()\n",
        "#train and test model\n",
        "model.fit(training_images, training_labels, epochs=10) #callbacks=[callbacks])\n",
        "test_loss, test_acc = model.evaluate(test_images, test_labels)\n",
        "\n",
        "print(test_acc)\n",
        "\n",
        "\n",
        "#visualize how the image changed over the layers\n",
        "f, axarr = plt.subplots(3,4)\n",
        "#3 different sneaker samples\n",
        "FIRST_IMAGE=0\n",
        "SECOND_IMAGE=23\n",
        "THIRD_IMAGE=28\n",
        "CONVOLUTION_NUMBER = 30\n",
        "from tensorflow.keras import models\n",
        "layer_outputs = [layer.output for layer in model.layers]\n",
        "activation_model = tf.keras.models.Model(inputs = model.input, outputs = layer_outputs)\n",
        "for x in range(0,4):\n",
        "  f1 = activation_model.predict(test_images[FIRST_IMAGE].reshape(1, 28, 28, 1))[x]\n",
        "  axarr[0,x].imshow(f1[0, : , :, CONVOLUTION_NUMBER], cmap='inferno')\n",
        "  axarr[0,x].grid(False)\n",
        "  f2 = activation_model.predict(test_images[SECOND_IMAGE].reshape(1, 28, 28, 1))[x]\n",
        "  axarr[1,x].imshow(f2[0, : , :, CONVOLUTION_NUMBER], cmap='inferno')\n",
        "  axarr[1,x].grid(False)\n",
        "  f3 = activation_model.predict(test_images[THIRD_IMAGE].reshape(1, 28, 28, 1))[x]\n",
        "  axarr[2,x].imshow(f3[0, : , :, CONVOLUTION_NUMBER], cmap='inferno')\n",
        "  axarr[2,x].grid(False)"
      ],
      "execution_count": 16,
      "outputs": [
        {
          "output_type": "stream",
          "text": [
            "_________________________________________________________________\n",
            "Layer (type)                 Output Shape              Param #   \n",
            "=================================================================\n",
            "conv2d_41 (Conv2D)           (None, 26, 26, 64)        640       \n",
            "_________________________________________________________________\n",
            "max_pooling2d_41 (MaxPooling (None, 13, 13, 64)        0         \n",
            "_________________________________________________________________\n",
            "conv2d_42 (Conv2D)           (None, 11, 11, 64)        36928     \n",
            "_________________________________________________________________\n",
            "max_pooling2d_42 (MaxPooling (None, 5, 5, 64)          0         \n",
            "_________________________________________________________________\n",
            "conv2d_43 (Conv2D)           (None, 3, 3, 32)          18464     \n",
            "_________________________________________________________________\n",
            "max_pooling2d_43 (MaxPooling (None, 1, 1, 32)          0         \n",
            "_________________________________________________________________\n",
            "flatten_15 (Flatten)         (None, 32)                0         \n",
            "_________________________________________________________________\n",
            "dense_30 (Dense)             (None, 256)               8448      \n",
            "_________________________________________________________________\n",
            "dense_31 (Dense)             (None, 10)                2570      \n",
            "=================================================================\n",
            "Total params: 67,050\n",
            "Trainable params: 67,050\n",
            "Non-trainable params: 0\n",
            "_________________________________________________________________\n",
            "Epoch 1/10\n",
            "60000/60000 [==============================] - 10s 162us/sample - loss: 0.2200 - acc: 0.9311\n",
            "Epoch 2/10\n",
            "60000/60000 [==============================] - 9s 153us/sample - loss: 0.0750 - acc: 0.9763\n",
            "Epoch 3/10\n",
            "60000/60000 [==============================] - 9s 153us/sample - loss: 0.0559 - acc: 0.9828\n",
            "Epoch 4/10\n",
            "60000/60000 [==============================] - 9s 154us/sample - loss: 0.0443 - acc: 0.9862\n",
            "Epoch 5/10\n",
            "60000/60000 [==============================] - 10s 173us/sample - loss: 0.0368 - acc: 0.9882\n",
            "Epoch 6/10\n",
            "60000/60000 [==============================] - 9s 153us/sample - loss: 0.0287 - acc: 0.9914\n",
            "Epoch 7/10\n",
            "60000/60000 [==============================] - 9s 153us/sample - loss: 0.0265 - acc: 0.9912\n",
            "Epoch 8/10\n",
            "60000/60000 [==============================] - 9s 154us/sample - loss: 0.0226 - acc: 0.9926\n",
            "Epoch 9/10\n",
            "60000/60000 [==============================] - 9s 153us/sample - loss: 0.0191 - acc: 0.9937\n",
            "Epoch 10/10\n",
            "60000/60000 [==============================] - 9s 152us/sample - loss: 0.0179 - acc: 0.9942\n",
            "10000/10000 [==============================] - 1s 95us/sample - loss: 0.0493 - acc: 0.9874\n",
            "0.9874\n"
          ],
          "name": "stdout"
        },
        {
          "output_type": "display_data",
          "data": {
            "image/png": "[encoded data removed]",
            "text/plain": [
              "<Figure size 432x288 with 12 Axes>"
            ]
          },
          "metadata": {
            "tags": []
          }
        }
      ]
    }
  ]
}